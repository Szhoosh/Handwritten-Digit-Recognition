{
 "cells": [
  {
   "cell_type": "code",
   "execution_count": 55,
   "metadata": {},
   "outputs": [],
   "source": [
    "\n",
    "import numpy as np\n",
    "import time\n",
    "import matplotlib.pyplot\n",
    "%matplotlib inline"
   ]
  },
  {
   "cell_type": "code",
   "execution_count": 56,
   "metadata": {},
   "outputs": [],
   "source": [
    "def convert(imgf, labelf, outf, n):\n",
    "    f = open(imgf, \"rb\")\n",
    "    o = open(outf, \"w\")\n",
    "    l = open(labelf, \"rb\")\n",
    "\n",
    "    f.read(16)\n",
    "    l.read(8)\n",
    "    images = []\n",
    "\n",
    "    for i in range(n):\n",
    "        image = [ord(l.read(1))]\n",
    "        for j in range(28*28):\n",
    "            image.append(ord(f.read(1)))\n",
    "        images.append(image)\n",
    "\n",
    "    for image in images:\n",
    "        o.write(\",\".join(str(pix) for pix in image)+\"\\n\")\n",
    "    f.close()\n",
    "    o.close()\n",
    "    l.close()"
   ]
  },
  {
   "cell_type": "code",
   "execution_count": 57,
   "metadata": {},
   "outputs": [],
   "source": [
    "#Convert ubyte files into csv files for train and test images\n",
    "\n",
    "convert(r'C:\\Users\\~ideapadGAMING~\\Documents\\MyPrograms\\HomeProject\\data\\train-images-idx3-ubyte\\train-images-idx3-ubyte', r'C:\\Users\\~ideapadGAMING~\\Documents\\MyPrograms\\HomeProject\\data\\train-labels-idx1-ubyte\\train-labels-idx1-ubyte',r'C:\\Users\\~ideapadGAMING~\\Documents\\MyPrograms\\HomeProject\\data\\mnist_train.csv', 60000)\n"
   ]
  },
  {
   "cell_type": "code",
   "execution_count": 58,
   "metadata": {},
   "outputs": [],
   "source": [
    "\n",
    "convert(r'C:\\Users\\~ideapadGAMING~\\Documents\\MyPrograms\\HomeProject\\data\\t10k-images-idx3-ubyte\\t10k-images-idx3-ubyte', r'C:\\Users\\~ideapadGAMING~\\Documents\\MyPrograms\\HomeProject\\data\\t10k-labels-idx1-ubyte\\t10k-labels-idx1-ubyte',r'C:\\Users\\~ideapadGAMING~\\Documents\\MyPrograms\\HomeProject\\data\\mnist_test.csv', 10000)"
   ]
  },
  {
   "cell_type": "code",
   "execution_count": 59,
   "metadata": {},
   "outputs": [],
   "source": [
    "train_file = open(r\"C:\\Users\\~ideapadGAMING~\\Documents\\MyPrograms\\HomeProject\\data\\mnist_train.csv\", 'r')\n",
    "train_list = train_file.readlines()\n",
    "train_file.close()\n",
    "test_file = open(r\"C:\\Users\\~ideapadGAMING~\\Documents\\MyPrograms\\HomeProject\\data\\mnist_test.csv\", 'r')\n",
    "test_list = test_file.readlines()\n",
    "test_file.close()"
   ]
  },
  {
   "cell_type": "code",
   "execution_count": 60,
   "metadata": {},
   "outputs": [
    {
     "data": {
      "text/plain": [
       "<matplotlib.image.AxesImage at 0x260aad025f0>"
      ]
     },
     "execution_count": 60,
     "metadata": {},
     "output_type": "execute_result"
    },
    {
     "data": {
      "image/png": "[encoded data removed]",
      "text/plain": [
       "<Figure size 640x480 with 1 Axes>"
      ]
     },
     "metadata": {},
     "output_type": "display_data"
    }
   ],
   "source": [
    "all_values = train_list[50].split(',')\n",
    "image_array = np.asfarray(all_values[1:]).reshape((28,28))\n",
    "matplotlib.pyplot.imshow(image_array, cmap='Greys', interpolation='None')"
   ]
  },
  {
   "cell_type": "code",
   "execution_count": 61,
   "metadata": {},
   "outputs": [],
   "source": [
    "\n",
    "class NN:\n",
    "  def __init__(self, sizes, epochs, lr):\n",
    "    self.sizes = sizes\n",
    "    self.epochs = epochs\n",
    "    self.lr = lr\n",
    "\n",
    "    input_layer=self.sizes[0]\n",
    "    hidden_1=self.sizes[1]\n",
    "    hidden_2=self.sizes[2]\n",
    "    output_layer=self.sizes[3]\n",
    "\n",
    "    self.params = {\n",
    "        'W1':np.random.randn(hidden_1, input_layer) * np.sqrt(1. / hidden_1),\n",
    "        'W2':np.random.randn(hidden_2, hidden_1) * np.sqrt(1. / hidden_2),\n",
    "        'W3':np.random.randn(output_layer, hidden_2) * np.sqrt(1. / output_layer)\n",
    "    }\n",
    "  def sigmoid(self, x, derivative=False):\n",
    "      if derivative:\n",
    "          return (np.exp(-x))/((np.exp(-x)+1)**2)\n",
    "      return 1/(1 + np.exp(-x))\n",
    "\n",
    "  def softmax(self, x, derivative=False):\n",
    "      exps = np.exp(x - x.max())\n",
    "      if derivative:\n",
    "          return exps / np.sum(exps, axis=0) * (1 - exps / np.sum(exps, axis=0))\n",
    "      return exps / np.sum(exps, axis=0)\n",
    "  def forward_pass(self, x_train):\n",
    "      params = self.params\n",
    "\n",
    "      params['A0'] = x_train\n",
    "\n",
    "      params['Z1'] = np.dot(params[\"W1\"], params['A0'])\n",
    "      params['A1'] = self.sigmoid(params['Z1'])\n",
    "\n",
    "      params['Z2'] = np.dot(params[\"W2\"], params['A1'])\n",
    "      params['A2'] = self.sigmoid(params['Z2'])\n",
    "\n",
    "      params['Z3'] = np.dot(params[\"W3\"], params['A2'])\n",
    "      params['A3'] = self.softmax(params['Z3'])\n",
    "\n",
    "      return params['A3']\n",
    "\n",
    "  def backward_pass(self, y_train, output):\n",
    "\n",
    "      params = self.params\n",
    "      change_w = {}\n",
    "\n",
    "      error = 2 * (output - y_train) / output.shape[0] * self.softmax(params['Z3'], derivative=True)\n",
    "      change_w['W3'] = np.outer(error, params['A2'])\n",
    "\n",
    "      error = np.dot(params['W3'].T, error) * self.sigmoid(params['Z2'], derivative=True)\n",
    "      change_w['W2'] = np.outer(error, params['A1'])\n",
    "\n",
    "      error = np.dot(params['W2'].T, error) * self.sigmoid(params['Z1'], derivative=True)\n",
    "      change_w['W1'] = np.outer(error, params['A0'])\n",
    "\n",
    "      return change_w\n",
    "\n",
    "  def update_network_parameters(self, changes_to_w):\n",
    "\n",
    "      \n",
    "      for key, value in changes_to_w.items():\n",
    "          self.params[key] -= self.lr * value\n",
    "\n",
    "  def compute_accuracy(self, test_data, output_nodes):\n",
    "    \n",
    "      predictions = []\n",
    "\n",
    "      for x in train_list:\n",
    "          all_values = x.split(',')\n",
    "          inputs = (np.asfarray(all_values[1:]) / 255.0 * 0.99) + 0.01\n",
    "          targets = np.zeros(output_nodes) + 0.01\n",
    "          targets[int(all_values[0])] = 0.99\n",
    "          output = self.forward_pass(inputs)\n",
    "          pred = np.argmax(output)\n",
    "          predictions.append(pred == np.argmax(targets))\n",
    "      \n",
    "      return np.mean(predictions)\n",
    "\n",
    "  def train(self, train_list, test_list, output_nodes):\n",
    "      start_time = time.time()\n",
    "      for iteration in range(self.epochs):\n",
    "          for x in train_list:\n",
    "              all_values = x.split(',')\n",
    "              inputs = (np.asfarray(all_values[1:]) / 255.0 * 0.99) + 0.01\n",
    "              targets = np.zeros(output_nodes) + 0.01\n",
    "              targets[int(all_values[0])] = 0.99\n",
    "              output = self.forward_pass(inputs)\n",
    "              changes_to_w = self.backward_pass(targets, output)\n",
    "              self.update_network_parameters(changes_to_w)\n",
    "          \n",
    "          accuracy = self.compute_accuracy(test_list, output_nodes)\n",
    "          print('Epoch: {0}, Time Spent: {1:.2f}s, Accuracy: {2:.2f}%'.format(\n",
    "              iteration+1, time.time() - start_time, accuracy * 100\n",
    "          ))"
   ]
  },
  {
   "cell_type": "code",
   "execution_count": 71,
   "metadata": {},
   "outputs": [],
   "source": [
    "nn = NN(sizes=[784, 128, 64, 10], epochs=20, lr=0.001)"
   ]
  },
  {
   "cell_type": "code",
   "execution_count": 72,
   "metadata": {},
   "outputs": [
    {
     "name": "stdout",
     "output_type": "stream",
     "text": [
      "Epoch: 1, Time Spent: 43.93s, Accuracy: 19.76%\n",
      "Epoch: 2, Time Spent: 87.28s, Accuracy: 25.73%\n",
      "Epoch: 3, Time Spent: 129.66s, Accuracy: 29.43%\n",
      "Epoch: 4, Time Spent: 172.68s, Accuracy: 36.29%\n",
      "Epoch: 5, Time Spent: 212.83s, Accuracy: 41.77%\n",
      "Epoch: 6, Time Spent: 491.37s, Accuracy: 45.52%\n",
      "Epoch: 7, Time Spent: 536.39s, Accuracy: 48.66%\n",
      "Epoch: 8, Time Spent: 579.63s, Accuracy: 51.30%\n",
      "Epoch: 9, Time Spent: 620.63s, Accuracy: 53.34%\n",
      "Epoch: 10, Time Spent: 661.34s, Accuracy: 54.74%\n",
      "Epoch: 11, Time Spent: 703.07s, Accuracy: 55.85%\n",
      "Epoch: 12, Time Spent: 744.66s, Accuracy: 57.14%\n",
      "Epoch: 13, Time Spent: 819.79s, Accuracy: 58.67%\n",
      "Epoch: 14, Time Spent: 860.51s, Accuracy: 60.30%\n",
      "Epoch: 15, Time Spent: 906.26s, Accuracy: 61.84%\n",
      "Epoch: 16, Time Spent: 952.42s, Accuracy: 63.20%\n",
      "Epoch: 17, Time Spent: 1000.89s, Accuracy: 64.37%\n",
      "Epoch: 18, Time Spent: 1049.65s, Accuracy: 65.45%\n",
      "Epoch: 19, Time Spent: 1095.95s, Accuracy: 66.34%\n",
      "Epoch: 20, Time Spent: 1144.44s, Accuracy: 67.08%\n"
     ]
    }
   ],
   "source": [
    "nn.train(train_list, test_list, 10)"
   ]
  },
  {
   "cell_type": "code",
   "execution_count": 28,
   "metadata": {},
   "outputs": [],
   "source": [
    "import pickle\n",
    "\n",
    "# Save the model parameters to a file\n",
    "def save_model(dnn, file_path):\n",
    "    with open(file_path, 'wb') as f:\n",
    "        pickle.dump(dnn.params, f)\n",
    "    print(f\"Model saved to {file_path}\")\n",
    "    \n",
    "def load_model(dnn, file_path):\n",
    "    with open(file_path, 'rb') as f:\n",
    "        dnn.params = pickle.load(f)\n",
    "    print(f\"Model loaded from {file_path}\")\n",
    "\n"
   ]
  },
  {
   "cell_type": "code",
   "execution_count": 82,
   "metadata": {},
   "outputs": [
    {
     "name": "stdout",
     "output_type": "stream",
     "text": [
      "Model saved to MnistnnV2.pkl\n"
     ]
    }
   ],
   "source": [
    "# Example usage\n",
    "save_model(nn, 'MnistnnV2.pkl')\n"
   ]
  },
  {
   "cell_type": "code",
   "execution_count": 83,
   "metadata": {},
   "outputs": [
    {
     "name": "stdout",
     "output_type": "stream",
     "text": [
      "Model loaded from Mnistnn.pkl\n"
     ]
    }
   ],
   "source": [
    "# Example usage\n",
    "loaded_dnn = NN(sizes=[784, 128, 64, 10], epochs=10, lr=0.01)  \n",
    "load_model(loaded_dnn, 'Mnistnn.pkl')\n"
   ]
  },
  {
   "cell_type": "code",
   "execution_count": 97,
   "metadata": {},
   "outputs": [
    {
     "name": "stdout",
     "output_type": "stream",
     "text": [
      "Predicted Label: 8\n",
      "Class Probabilities:\n",
      "Digit 0: 8.19%\n",
      "Digit 1: 10.28%\n",
      "Digit 2: 8.88%\n",
      "Digit 3: 8.27%\n",
      "Digit 4: 12.85%\n",
      "Digit 5: 2.49%\n",
      "Digit 6: 3.35%\n",
      "Digit 7: 3.66%\n",
      "Digit 8: 37.63%\n",
      "Digit 9: 4.41%\n",
      "Plots saved as 'probabilities_bar_chart.png' and 'input_image_with_prediction.png'.\n"
     ]
    }
   ],
   "source": [
    "from PIL import Image\n",
    "import numpy as np\n",
    "import matplotlib.pyplot as plt\n",
    "\n",
    "image_path = \"inputimage.png\"  \n",
    "img = Image.open(image_path).convert(\"L\")\n",
    "img_array = np.array(img) / 255.0\n",
    "img_array = 1 - img_array  # Invert colors\n",
    "img_flatten = img_array.flatten().reshape(1, -1)  # Shape: (1, 784)\n",
    "\n",
    "nn = NN(sizes=[784, 128, 64, 10], epochs=15, lr=0.001)\n",
    "\n",
    "# Perform forward pass\n",
    "prediction = nn.forward_pass(img_flatten.T)\n",
    "\n",
    "# Get the predicted label\n",
    "predicted_label = np.argmax(prediction)\n",
    "\n",
    "# Get the probabilities for all digits\n",
    "probabilities = prediction.flatten()  # Flatten to a 1D array for easier viewing\n",
    "\n",
    "# Print the predicted label and probabilities\n",
    "print(f\"Predicted Label: {predicted_label}\")\n",
    "print(\"Class Probabilities:\")\n",
    "for i, prob in enumerate(probabilities):\n",
    "    print(f\"Digit {i}: {prob*100:.2f}%\")\n",
    "\n",
    "# Save the probabilities as a bar chart\n",
    "plt.figure(figsize=(8, 6))\n",
    "plt.bar(range(10), probabilities, color='skyblue')\n",
    "plt.xticks(range(10))  # Set x-ticks to represent the digits (0-9)\n",
    "plt.title(f\"Class Probabilities (Predicted Label: {predicted_label})\")\n",
    "plt.xlabel('Digits')\n",
    "plt.ylabel('Probability')\n",
    "plt.ylim(0, 1)  # Set y-axis limits to [0, 1]\n",
    "plt.savefig('probabilities_bar_chart.png')  # Save the bar chart\n",
    "plt.close()  # Close the plot to free up memory\n",
    "\n",
    "# Save the image with the predicted label\n",
    "plt.figure(figsize=(6, 6))\n",
    "plt.imshow(img, cmap='gray')\n",
    "plt.title(f\"Predicted Label: {predicted_label}\")\n",
    "plt.axis('off')  # Turn off axis to better display the image\n",
    "plt.savefig('input_image_with_prediction.png')  # Save the image\n",
    "plt.close()  # Close the plot to free up memory\n",
    "\n",
    "# Optional: You can print out where the images are saved\n",
    "print(\"Plots saved as 'probabilities_bar_chart.png' and 'input_image_with_prediction.png'.\")\n"
   ]
  },
  {
   "cell_type": "code",
   "execution_count": null,
   "metadata": {},
   "outputs": [],
   "source": []
  }
 ],
 "metadata": {
  "kernelspec": {
   "display_name": "Python 3",
   "language": "python",
   "name": "python3"
  },
  "language_info": {
   "codemirror_mode": {
    "name": "ipython",
    "version": 3
   },
   "file_extension": ".py",
   "mimetype": "text/x-python",
   "name": "python",
   "nbconvert_exporter": "python",
   "pygments_lexer": "ipython3",
   "version": "3.10.0"
  }
 },
 "nbformat": 4,
 "nbformat_minor": 2
}
